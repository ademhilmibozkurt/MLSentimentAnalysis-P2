{
 "cells": [
  {
   "cell_type": "markdown",
   "metadata": {},
   "source": [
    "## Import Dependencies"
   ]
  },
  {
   "cell_type": "code",
   "execution_count": 1,
   "metadata": {
    "execution": {
     "iopub.execute_input": "2023-06-22T09:29:09.924392Z",
     "iopub.status.busy": "2023-06-22T09:29:09.923462Z",
     "iopub.status.idle": "2023-06-22T09:29:12.237152Z",
     "shell.execute_reply": "2023-06-22T09:29:12.235921Z",
     "shell.execute_reply.started": "2023-06-22T09:29:09.924343Z"
    }
   },
   "outputs": [],
   "source": [
    "import os\n",
    "import time\n",
    "import pandas as pd\n",
    "import numpy as np\n",
    "\n",
    "from sklearn.metrics import accuracy_score\n",
    "from sklearn import model_selection\n",
    "\n",
    "from sklearn.model_selection import train_test_split\n",
    "from sklearn.feature_extraction.text import CountVectorizer\n",
    "\n",
    "from xgboost import XGBClassifier\n",
    "from sklearn.ensemble import RandomForestClassifier\n",
    "\n",
    "import warnings\n",
    "warnings.filterwarnings('ignore')"
   ]
  },
  {
   "cell_type": "code",
   "execution_count": 2,
   "metadata": {
    "execution": {
     "iopub.execute_input": "2023-06-22T09:29:18.747317Z",
     "iopub.status.busy": "2023-06-22T09:29:18.746304Z",
     "iopub.status.idle": "2023-06-22T09:29:18.808041Z",
     "shell.execute_reply": "2023-06-22T09:29:18.806953Z",
     "shell.execute_reply.started": "2023-06-22T09:29:18.747279Z"
    }
   },
   "outputs": [],
   "source": [
    "import joblib\n",
    "from scipy import sparse, io"
   ]
  },
  {
   "cell_type": "markdown",
   "metadata": {},
   "source": [
    "## Go To Directory"
   ]
  },
  {
   "cell_type": "code",
   "execution_count": 3,
   "metadata": {
    "execution": {
     "iopub.execute_input": "2023-06-22T09:29:19.930143Z",
     "iopub.status.busy": "2023-06-22T09:29:19.929741Z",
     "iopub.status.idle": "2023-06-22T09:29:19.939015Z",
     "shell.execute_reply": "2023-06-22T09:29:19.937918Z",
     "shell.execute_reply.started": "2023-06-22T09:29:19.930102Z"
    }
   },
   "outputs": [
    {
     "data": {
      "text/plain": [
       "['vaders', 'newdata']"
      ]
     },
     "execution_count": 3,
     "metadata": {},
     "output_type": "execute_result"
    }
   ],
   "source": [
    "os.listdir('/kaggle/input/')"
   ]
  },
  {
   "cell_type": "markdown",
   "metadata": {},
   "source": [
    "## Import Datasets"
   ]
  },
  {
   "cell_type": "code",
   "execution_count": 4,
   "metadata": {
    "execution": {
     "iopub.execute_input": "2023-06-22T09:29:21.190213Z",
     "iopub.status.busy": "2023-06-22T09:29:21.189797Z",
     "iopub.status.idle": "2023-06-22T09:29:25.842674Z",
     "shell.execute_reply": "2023-06-22T09:29:25.841708Z",
     "shell.execute_reply.started": "2023-06-22T09:29:21.190181Z"
    }
   },
   "outputs": [],
   "source": [
    "vaders = pd.read_csv('../input/vaders/vaders.csv')"
   ]
  },
  {
   "cell_type": "code",
   "execution_count": 5,
   "metadata": {
    "execution": {
     "iopub.execute_input": "2023-06-22T09:29:25.844515Z",
     "iopub.status.busy": "2023-06-22T09:29:25.844220Z",
     "iopub.status.idle": "2023-06-22T09:29:25.870957Z",
     "shell.execute_reply": "2023-06-22T09:29:25.869899Z",
     "shell.execute_reply.started": "2023-06-22T09:29:25.844491Z"
    }
   },
   "outputs": [],
   "source": [
    "newData = pd.read_csv('../input/newdata/7reviewsPrepared.csv')"
   ]
  },
  {
   "cell_type": "code",
   "execution_count": 6,
   "metadata": {
    "execution": {
     "iopub.execute_input": "2023-06-22T09:29:25.872400Z",
     "iopub.status.busy": "2023-06-22T09:29:25.872091Z",
     "iopub.status.idle": "2023-06-22T09:29:25.908755Z",
     "shell.execute_reply": "2023-06-22T09:29:25.907686Z",
     "shell.execute_reply.started": "2023-06-22T09:29:25.872373Z"
    }
   },
   "outputs": [],
   "source": [
    "raw = pd.read_csv('../input/newdata/5reviews.csv')"
   ]
  },
  {
   "cell_type": "code",
   "execution_count": 7,
   "metadata": {
    "execution": {
     "iopub.execute_input": "2023-06-22T09:29:25.911171Z",
     "iopub.status.busy": "2023-06-22T09:29:25.910827Z",
     "iopub.status.idle": "2023-06-22T09:29:25.922056Z",
     "shell.execute_reply": "2023-06-22T09:29:25.921057Z",
     "shell.execute_reply.started": "2023-06-22T09:29:25.911144Z"
    }
   },
   "outputs": [],
   "source": [
    "scores = pd.read_csv('../input/newdata/7scores.csv')"
   ]
  },
  {
   "cell_type": "code",
   "execution_count": 8,
   "metadata": {
    "execution": {
     "iopub.execute_input": "2023-06-22T09:29:25.923944Z",
     "iopub.status.busy": "2023-06-22T09:29:25.923519Z",
     "iopub.status.idle": "2023-06-22T09:29:25.938538Z",
     "shell.execute_reply": "2023-06-22T09:29:25.937438Z",
     "shell.execute_reply.started": "2023-06-22T09:29:25.923907Z"
    }
   },
   "outputs": [],
   "source": [
    "raw[\"scores\"] = scores[\"score\"]"
   ]
  },
  {
   "cell_type": "markdown",
   "metadata": {},
   "source": [
    "## Vaders Neg-Pos Rescoring "
   ]
  },
  {
   "cell_type": "code",
   "execution_count": 9,
   "metadata": {
    "execution": {
     "iopub.execute_input": "2023-06-22T09:29:30.012163Z",
     "iopub.status.busy": "2023-06-22T09:29:30.011415Z",
     "iopub.status.idle": "2023-06-22T09:29:30.144962Z",
     "shell.execute_reply": "2023-06-22T09:29:30.143877Z",
     "shell.execute_reply.started": "2023-06-22T09:29:30.012130Z"
    }
   },
   "outputs": [],
   "source": [
    "vaders[\"Neg-Pos\"] = vaders[\"compound\"].apply(lambda x: \"neg\" if x< 0.5 else \"pos\")"
   ]
  },
  {
   "cell_type": "code",
   "execution_count": 28,
   "metadata": {
    "execution": {
     "iopub.execute_input": "2023-06-22T11:02:56.012053Z",
     "iopub.status.busy": "2023-06-22T11:02:56.011144Z",
     "iopub.status.idle": "2023-06-22T11:02:56.281812Z",
     "shell.execute_reply": "2023-06-22T11:02:56.280643Z",
     "shell.execute_reply.started": "2023-06-22T11:02:56.012013Z"
    }
   },
   "outputs": [],
   "source": [
    "vaders[\"neg-pos\"] = vaders[\"compound\"].apply(lambda x: 0 if x< 0.5 else 1)"
   ]
  },
  {
   "cell_type": "code",
   "execution_count": 29,
   "metadata": {
    "execution": {
     "iopub.execute_input": "2023-06-22T11:02:57.304922Z",
     "iopub.status.busy": "2023-06-22T11:02:57.304497Z",
     "iopub.status.idle": "2023-06-22T11:02:57.322793Z",
     "shell.execute_reply": "2023-06-22T11:02:57.321514Z",
     "shell.execute_reply.started": "2023-06-22T11:02:57.304890Z"
    }
   },
   "outputs": [
    {
     "data": {
      "text/html": [
       "<div>\n",
       "<style scoped>\n",
       "    .dataframe tbody tr th:only-of-type {\n",
       "        vertical-align: middle;\n",
       "    }\n",
       "\n",
       "    .dataframe tbody tr th {\n",
       "        vertical-align: top;\n",
       "    }\n",
       "\n",
       "    .dataframe thead th {\n",
       "        text-align: right;\n",
       "    }\n",
       "</style>\n",
       "<table border=\"1\" class=\"dataframe\">\n",
       "  <thead>\n",
       "    <tr style=\"text-align: right;\">\n",
       "      <th></th>\n",
       "      <th>index</th>\n",
       "      <th>Text</th>\n",
       "      <th>neg</th>\n",
       "      <th>neu</th>\n",
       "      <th>pos</th>\n",
       "      <th>compound</th>\n",
       "      <th>Score</th>\n",
       "      <th>SScoring</th>\n",
       "      <th>Sentiment</th>\n",
       "      <th>Neg-Pos</th>\n",
       "      <th>neg-pos</th>\n",
       "    </tr>\n",
       "  </thead>\n",
       "  <tbody>\n",
       "    <tr>\n",
       "      <th>0</th>\n",
       "      <td>0</td>\n",
       "      <td>bought several vitality canned dog food produc...</td>\n",
       "      <td>0.000</td>\n",
       "      <td>0.517</td>\n",
       "      <td>0.483</td>\n",
       "      <td>0.9413</td>\n",
       "      <td>5</td>\n",
       "      <td>2</td>\n",
       "      <td>pos</td>\n",
       "      <td>pos</td>\n",
       "      <td>1</td>\n",
       "    </tr>\n",
       "    <tr>\n",
       "      <th>1</th>\n",
       "      <td>1</td>\n",
       "      <td>product arrived labeled jumbo salted peanutsth...</td>\n",
       "      <td>0.129</td>\n",
       "      <td>0.762</td>\n",
       "      <td>0.110</td>\n",
       "      <td>-0.1027</td>\n",
       "      <td>1</td>\n",
       "      <td>0</td>\n",
       "      <td>neg</td>\n",
       "      <td>neg</td>\n",
       "      <td>0</td>\n",
       "    </tr>\n",
       "    <tr>\n",
       "      <th>2</th>\n",
       "      <td>2</td>\n",
       "      <td>confection around century light pillowy citrus...</td>\n",
       "      <td>0.130</td>\n",
       "      <td>0.584</td>\n",
       "      <td>0.286</td>\n",
       "      <td>0.8624</td>\n",
       "      <td>4</td>\n",
       "      <td>2</td>\n",
       "      <td>pos</td>\n",
       "      <td>pos</td>\n",
       "      <td>1</td>\n",
       "    </tr>\n",
       "    <tr>\n",
       "      <th>3</th>\n",
       "      <td>3</td>\n",
       "      <td>looking secret ingredient robitussin believe f...</td>\n",
       "      <td>0.000</td>\n",
       "      <td>0.868</td>\n",
       "      <td>0.132</td>\n",
       "      <td>0.4404</td>\n",
       "      <td>2</td>\n",
       "      <td>1</td>\n",
       "      <td>neu</td>\n",
       "      <td>neg</td>\n",
       "      <td>0</td>\n",
       "    </tr>\n",
       "    <tr>\n",
       "      <th>4</th>\n",
       "      <td>4</td>\n",
       "      <td>great taffy great price wide assortment yummy ...</td>\n",
       "      <td>0.000</td>\n",
       "      <td>0.369</td>\n",
       "      <td>0.631</td>\n",
       "      <td>0.9468</td>\n",
       "      <td>5</td>\n",
       "      <td>2</td>\n",
       "      <td>pos</td>\n",
       "      <td>pos</td>\n",
       "      <td>1</td>\n",
       "    </tr>\n",
       "  </tbody>\n",
       "</table>\n",
       "</div>"
      ],
      "text/plain": [
       "   index                                               Text    neg    neu  \\\n",
       "0      0  bought several vitality canned dog food produc...  0.000  0.517   \n",
       "1      1  product arrived labeled jumbo salted peanutsth...  0.129  0.762   \n",
       "2      2  confection around century light pillowy citrus...  0.130  0.584   \n",
       "3      3  looking secret ingredient robitussin believe f...  0.000  0.868   \n",
       "4      4  great taffy great price wide assortment yummy ...  0.000  0.369   \n",
       "\n",
       "     pos  compound  Score  SScoring Sentiment Neg-Pos  neg-pos  \n",
       "0  0.483    0.9413      5         2       pos     pos        1  \n",
       "1  0.110   -0.1027      1         0       neg     neg        0  \n",
       "2  0.286    0.8624      4         2       pos     pos        1  \n",
       "3  0.132    0.4404      2         1       neu     neg        0  \n",
       "4  0.631    0.9468      5         2       pos     pos        1  "
      ]
     },
     "execution_count": 29,
     "metadata": {},
     "output_type": "execute_result"
    }
   ],
   "source": [
    "vaders.head()"
   ]
  },
  {
   "cell_type": "markdown",
   "metadata": {},
   "source": [
    "## Train - Test Split"
   ]
  },
  {
   "cell_type": "code",
   "execution_count": 30,
   "metadata": {
    "execution": {
     "iopub.execute_input": "2023-06-22T11:03:04.033799Z",
     "iopub.status.busy": "2023-06-22T11:03:04.033392Z",
     "iopub.status.idle": "2023-06-22T11:03:04.709464Z",
     "shell.execute_reply": "2023-06-22T11:03:04.708334Z",
     "shell.execute_reply.started": "2023-06-22T11:03:04.033768Z"
    }
   },
   "outputs": [],
   "source": [
    "x_train, x_test, y_train, y_test = train_test_split(vaders[\"Text\"], vaders[\"neg-pos\"], test_size=0.25, random_state=1)"
   ]
  },
  {
   "cell_type": "markdown",
   "metadata": {},
   "source": [
    "## CountVectorizer"
   ]
  },
  {
   "cell_type": "code",
   "execution_count": 31,
   "metadata": {
    "execution": {
     "iopub.execute_input": "2023-06-22T11:03:06.360696Z",
     "iopub.status.busy": "2023-06-22T11:03:06.360303Z",
     "iopub.status.idle": "2023-06-22T11:03:06.365832Z",
     "shell.execute_reply": "2023-06-22T11:03:06.364750Z",
     "shell.execute_reply.started": "2023-06-22T11:03:06.360666Z"
    }
   },
   "outputs": [],
   "source": [
    "count = CountVectorizer()"
   ]
  },
  {
   "cell_type": "code",
   "execution_count": 32,
   "metadata": {
    "execution": {
     "iopub.execute_input": "2023-06-22T11:03:09.416014Z",
     "iopub.status.busy": "2023-06-22T11:03:09.415573Z",
     "iopub.status.idle": "2023-06-22T11:03:25.975849Z",
     "shell.execute_reply": "2023-06-22T11:03:25.974845Z",
     "shell.execute_reply.started": "2023-06-22T11:03:09.415980Z"
    }
   },
   "outputs": [
    {
     "data": {
      "text/html": [
       "<style>#sk-container-id-2 {color: black;background-color: white;}#sk-container-id-2 pre{padding: 0;}#sk-container-id-2 div.sk-toggleable {background-color: white;}#sk-container-id-2 label.sk-toggleable__label {cursor: pointer;display: block;width: 100%;margin-bottom: 0;padding: 0.3em;box-sizing: border-box;text-align: center;}#sk-container-id-2 label.sk-toggleable__label-arrow:before {content: \"▸\";float: left;margin-right: 0.25em;color: #696969;}#sk-container-id-2 label.sk-toggleable__label-arrow:hover:before {color: black;}#sk-container-id-2 div.sk-estimator:hover label.sk-toggleable__label-arrow:before {color: black;}#sk-container-id-2 div.sk-toggleable__content {max-height: 0;max-width: 0;overflow: hidden;text-align: left;background-color: #f0f8ff;}#sk-container-id-2 div.sk-toggleable__content pre {margin: 0.2em;color: black;border-radius: 0.25em;background-color: #f0f8ff;}#sk-container-id-2 input.sk-toggleable__control:checked~div.sk-toggleable__content {max-height: 200px;max-width: 100%;overflow: auto;}#sk-container-id-2 input.sk-toggleable__control:checked~label.sk-toggleable__label-arrow:before {content: \"▾\";}#sk-container-id-2 div.sk-estimator input.sk-toggleable__control:checked~label.sk-toggleable__label {background-color: #d4ebff;}#sk-container-id-2 div.sk-label input.sk-toggleable__control:checked~label.sk-toggleable__label {background-color: #d4ebff;}#sk-container-id-2 input.sk-hidden--visually {border: 0;clip: rect(1px 1px 1px 1px);clip: rect(1px, 1px, 1px, 1px);height: 1px;margin: -1px;overflow: hidden;padding: 0;position: absolute;width: 1px;}#sk-container-id-2 div.sk-estimator {font-family: monospace;background-color: #f0f8ff;border: 1px dotted black;border-radius: 0.25em;box-sizing: border-box;margin-bottom: 0.5em;}#sk-container-id-2 div.sk-estimator:hover {background-color: #d4ebff;}#sk-container-id-2 div.sk-parallel-item::after {content: \"\";width: 100%;border-bottom: 1px solid gray;flex-grow: 1;}#sk-container-id-2 div.sk-label:hover label.sk-toggleable__label {background-color: #d4ebff;}#sk-container-id-2 div.sk-serial::before {content: \"\";position: absolute;border-left: 1px solid gray;box-sizing: border-box;top: 0;bottom: 0;left: 50%;z-index: 0;}#sk-container-id-2 div.sk-serial {display: flex;flex-direction: column;align-items: center;background-color: white;padding-right: 0.2em;padding-left: 0.2em;position: relative;}#sk-container-id-2 div.sk-item {position: relative;z-index: 1;}#sk-container-id-2 div.sk-parallel {display: flex;align-items: stretch;justify-content: center;background-color: white;position: relative;}#sk-container-id-2 div.sk-item::before, #sk-container-id-2 div.sk-parallel-item::before {content: \"\";position: absolute;border-left: 1px solid gray;box-sizing: border-box;top: 0;bottom: 0;left: 50%;z-index: -1;}#sk-container-id-2 div.sk-parallel-item {display: flex;flex-direction: column;z-index: 1;position: relative;background-color: white;}#sk-container-id-2 div.sk-parallel-item:first-child::after {align-self: flex-end;width: 50%;}#sk-container-id-2 div.sk-parallel-item:last-child::after {align-self: flex-start;width: 50%;}#sk-container-id-2 div.sk-parallel-item:only-child::after {width: 0;}#sk-container-id-2 div.sk-dashed-wrapped {border: 1px dashed gray;margin: 0 0.4em 0.5em 0.4em;box-sizing: border-box;padding-bottom: 0.4em;background-color: white;}#sk-container-id-2 div.sk-label label {font-family: monospace;font-weight: bold;display: inline-block;line-height: 1.2em;}#sk-container-id-2 div.sk-label-container {text-align: center;}#sk-container-id-2 div.sk-container {/* jupyter's `normalize.less` sets `[hidden] { display: none; }` but bootstrap.min.css set `[hidden] { display: none !important; }` so we also need the `!important` here to be able to override the default hidden behavior on the sphinx rendered scikit-learn.org. See: https://github.com/scikit-learn/scikit-learn/issues/21755 */display: inline-block !important;position: relative;}#sk-container-id-2 div.sk-text-repr-fallback {display: none;}</style><div id=\"sk-container-id-2\" class=\"sk-top-container\"><div class=\"sk-text-repr-fallback\"><pre>CountVectorizer()</pre><b>In a Jupyter environment, please rerun this cell to show the HTML representation or trust the notebook. <br />On GitHub, the HTML representation is unable to render, please try loading this page with nbviewer.org.</b></div><div class=\"sk-container\" hidden><div class=\"sk-item\"><div class=\"sk-estimator sk-toggleable\"><input class=\"sk-toggleable__control sk-hidden--visually\" id=\"sk-estimator-id-2\" type=\"checkbox\" checked><label for=\"sk-estimator-id-2\" class=\"sk-toggleable__label sk-toggleable__label-arrow\">CountVectorizer</label><div class=\"sk-toggleable__content\"><pre>CountVectorizer()</pre></div></div></div></div></div>"
      ],
      "text/plain": [
       "CountVectorizer()"
      ]
     },
     "execution_count": 32,
     "metadata": {},
     "output_type": "execute_result"
    }
   ],
   "source": [
    "count.fit(x_train.apply(lambda x: np.str_(x)))"
   ]
  },
  {
   "cell_type": "code",
   "execution_count": 33,
   "metadata": {
    "execution": {
     "iopub.execute_input": "2023-06-22T11:03:25.977929Z",
     "iopub.status.busy": "2023-06-22T11:03:25.977501Z",
     "iopub.status.idle": "2023-06-22T11:04:54.958311Z",
     "shell.execute_reply": "2023-06-22T11:04:54.956766Z",
     "shell.execute_reply.started": "2023-06-22T11:03:25.977900Z"
    }
   },
   "outputs": [],
   "source": [
    "x_train_count = count.transform(x_train.values.astype('U'))\n",
    "x_test_count = count.transform(x_test.values.astype('U'))"
   ]
  },
  {
   "cell_type": "code",
   "execution_count": 34,
   "metadata": {
    "execution": {
     "iopub.execute_input": "2023-06-22T11:04:54.960729Z",
     "iopub.status.busy": "2023-06-22T11:04:54.959951Z",
     "iopub.status.idle": "2023-06-22T11:04:54.967899Z",
     "shell.execute_reply": "2023-06-22T11:04:54.966745Z",
     "shell.execute_reply.started": "2023-06-22T11:04:54.960694Z"
    }
   },
   "outputs": [
    {
     "data": {
      "text/plain": [
       "array(CountVectorizer(), dtype=object)"
      ]
     },
     "execution_count": 34,
     "metadata": {},
     "output_type": "execute_result"
    }
   ],
   "source": [
    "np.asarray(count)"
   ]
  },
  {
   "cell_type": "markdown",
   "metadata": {},
   "source": [
    "## Random Forest Classifier"
   ]
  },
  {
   "cell_type": "code",
   "execution_count": 16,
   "metadata": {
    "execution": {
     "iopub.execute_input": "2023-06-22T09:31:22.014561Z",
     "iopub.status.busy": "2023-06-22T09:31:22.014188Z",
     "iopub.status.idle": "2023-06-22T09:31:22.019655Z",
     "shell.execute_reply": "2023-06-22T09:31:22.018011Z",
     "shell.execute_reply.started": "2023-06-22T09:31:22.014532Z"
    }
   },
   "outputs": [],
   "source": [
    "rf = RandomForestClassifier()"
   ]
  },
  {
   "cell_type": "code",
   "execution_count": 17,
   "metadata": {
    "execution": {
     "iopub.execute_input": "2023-06-22T09:31:25.520396Z",
     "iopub.status.busy": "2023-06-22T09:31:25.519977Z",
     "iopub.status.idle": "2023-06-22T10:53:13.206179Z",
     "shell.execute_reply": "2023-06-22T10:53:13.203211Z",
     "shell.execute_reply.started": "2023-06-22T09:31:25.520361Z"
    }
   },
   "outputs": [],
   "source": [
    "rf_model_count = rf.fit(x_train_count, y_train)"
   ]
  },
  {
   "cell_type": "code",
   "execution_count": 18,
   "metadata": {
    "execution": {
     "iopub.execute_input": "2023-06-22T10:55:47.985502Z",
     "iopub.status.busy": "2023-06-22T10:55:47.985031Z",
     "iopub.status.idle": "2023-06-22T10:56:09.073012Z",
     "shell.execute_reply": "2023-06-22T10:56:09.071927Z",
     "shell.execute_reply.started": "2023-06-22T10:55:47.985473Z"
    }
   },
   "outputs": [
    {
     "data": {
      "text/plain": [
       "0.9161447851724672"
      ]
     },
     "execution_count": 18,
     "metadata": {},
     "output_type": "execute_result"
    }
   ],
   "source": [
    "y_pred = rf_model_count.predict(x_test_count)\n",
    "accuracy_score(y_test, y_pred)"
   ]
  },
  {
   "cell_type": "markdown",
   "metadata": {},
   "source": [
    "### Test on New Data"
   ]
  },
  {
   "cell_type": "code",
   "execution_count": 19,
   "metadata": {
    "execution": {
     "iopub.execute_input": "2023-06-22T10:56:18.419674Z",
     "iopub.status.busy": "2023-06-22T10:56:18.419259Z",
     "iopub.status.idle": "2023-06-22T10:56:18.432875Z",
     "shell.execute_reply": "2023-06-22T10:56:18.432150Z",
     "shell.execute_reply.started": "2023-06-22T10:56:18.419644Z"
    }
   },
   "outputs": [
    {
     "data": {
      "text/plain": [
       "review    13\n",
       "dtype: int64"
      ]
     },
     "execution_count": 19,
     "metadata": {},
     "output_type": "execute_result"
    }
   ],
   "source": [
    "newData.isnull().sum()"
   ]
  },
  {
   "cell_type": "code",
   "execution_count": 20,
   "metadata": {
    "execution": {
     "iopub.execute_input": "2023-06-22T10:56:19.797294Z",
     "iopub.status.busy": "2023-06-22T10:56:19.796922Z",
     "iopub.status.idle": "2023-06-22T10:56:19.805794Z",
     "shell.execute_reply": "2023-06-22T10:56:19.804602Z",
     "shell.execute_reply.started": "2023-06-22T10:56:19.797257Z"
    }
   },
   "outputs": [],
   "source": [
    "newData = newData.dropna()"
   ]
  },
  {
   "cell_type": "code",
   "execution_count": 21,
   "metadata": {
    "execution": {
     "iopub.execute_input": "2023-06-22T10:56:22.186983Z",
     "iopub.status.busy": "2023-06-22T10:56:22.186577Z",
     "iopub.status.idle": "2023-06-22T10:57:29.008560Z",
     "shell.execute_reply": "2023-06-22T10:57:29.007748Z",
     "shell.execute_reply.started": "2023-06-22T10:56:22.186952Z"
    }
   },
   "outputs": [],
   "source": [
    "raw[\"rf\"] = newData[\"review\"].apply(lambda x: rf_model_count.predict(count.transform(pd.Series(x))))"
   ]
  },
  {
   "cell_type": "code",
   "execution_count": 23,
   "metadata": {
    "execution": {
     "iopub.execute_input": "2023-06-22T10:58:39.901186Z",
     "iopub.status.busy": "2023-06-22T10:58:39.900718Z",
     "iopub.status.idle": "2023-06-22T10:58:39.917313Z",
     "shell.execute_reply": "2023-06-22T10:58:39.916207Z",
     "shell.execute_reply.started": "2023-06-22T10:58:39.901153Z"
    }
   },
   "outputs": [
    {
     "data": {
      "text/html": [
       "<div>\n",
       "<style scoped>\n",
       "    .dataframe tbody tr th:only-of-type {\n",
       "        vertical-align: middle;\n",
       "    }\n",
       "\n",
       "    .dataframe tbody tr th {\n",
       "        vertical-align: top;\n",
       "    }\n",
       "\n",
       "    .dataframe thead th {\n",
       "        text-align: right;\n",
       "    }\n",
       "</style>\n",
       "<table border=\"1\" class=\"dataframe\">\n",
       "  <thead>\n",
       "    <tr style=\"text-align: right;\">\n",
       "      <th></th>\n",
       "      <th>review</th>\n",
       "      <th>score</th>\n",
       "      <th>scores</th>\n",
       "      <th>rf</th>\n",
       "    </tr>\n",
       "  </thead>\n",
       "  <tbody>\n",
       "    <tr>\n",
       "      <th>0</th>\n",
       "      <td>The only problem, I actually counted the amoun...</td>\n",
       "      <td>4.0</td>\n",
       "      <td>4.0</td>\n",
       "      <td>[neg]</td>\n",
       "    </tr>\n",
       "    <tr>\n",
       "      <th>1</th>\n",
       "      <td>Me and my wife and my kids love them</td>\n",
       "      <td>5.0</td>\n",
       "      <td>5.0</td>\n",
       "      <td>[pos]</td>\n",
       "    </tr>\n",
       "    <tr>\n",
       "      <th>2</th>\n",
       "      <td>Definitely one of the best candies you can buy...</td>\n",
       "      <td>5.0</td>\n",
       "      <td>5.0</td>\n",
       "      <td>[pos]</td>\n",
       "    </tr>\n",
       "    <tr>\n",
       "      <th>3</th>\n",
       "      <td>The price is great, but there are mostly grape...</td>\n",
       "      <td>3.0</td>\n",
       "      <td>3.0</td>\n",
       "      <td>[pos]</td>\n",
       "    </tr>\n",
       "    <tr>\n",
       "      <th>4</th>\n",
       "      <td>Box and packaging in great shape, kids love them.</td>\n",
       "      <td>5.0</td>\n",
       "      <td>5.0</td>\n",
       "      <td>[pos]</td>\n",
       "    </tr>\n",
       "  </tbody>\n",
       "</table>\n",
       "</div>"
      ],
      "text/plain": [
       "                                              review  score  scores     rf\n",
       "0  The only problem, I actually counted the amoun...    4.0     4.0  [neg]\n",
       "1               Me and my wife and my kids love them    5.0     5.0  [pos]\n",
       "2  Definitely one of the best candies you can buy...    5.0     5.0  [pos]\n",
       "3  The price is great, but there are mostly grape...    3.0     3.0  [pos]\n",
       "4  Box and packaging in great shape, kids love them.    5.0     5.0  [pos]"
      ]
     },
     "execution_count": 23,
     "metadata": {},
     "output_type": "execute_result"
    }
   ],
   "source": [
    "raw.head()"
   ]
  },
  {
   "cell_type": "markdown",
   "metadata": {},
   "source": [
    "### Export Model"
   ]
  },
  {
   "cell_type": "code",
   "execution_count": 24,
   "metadata": {
    "execution": {
     "iopub.execute_input": "2023-06-22T10:58:46.159637Z",
     "iopub.status.busy": "2023-06-22T10:58:46.159227Z",
     "iopub.status.idle": "2023-06-22T10:58:46.167983Z",
     "shell.execute_reply": "2023-06-22T10:58:46.166914Z",
     "shell.execute_reply.started": "2023-06-22T10:58:46.159606Z"
    }
   },
   "outputs": [
    {
     "data": {
      "text/plain": [
       "['__notebook_source__.ipynb', '.virtual_documents']"
      ]
     },
     "execution_count": 24,
     "metadata": {},
     "output_type": "execute_result"
    }
   ],
   "source": [
    "os.listdir('/kaggle/working/')"
   ]
  },
  {
   "cell_type": "code",
   "execution_count": 25,
   "metadata": {
    "execution": {
     "iopub.execute_input": "2023-06-22T10:58:46.993481Z",
     "iopub.status.busy": "2023-06-22T10:58:46.993113Z",
     "iopub.status.idle": "2023-06-22T10:58:48.762832Z",
     "shell.execute_reply": "2023-06-22T10:58:48.761800Z",
     "shell.execute_reply.started": "2023-06-22T10:58:46.993456Z"
    }
   },
   "outputs": [
    {
     "data": {
      "text/plain": [
       "['../working/rf.joblib']"
      ]
     },
     "execution_count": 25,
     "metadata": {},
     "output_type": "execute_result"
    }
   ],
   "source": [
    "joblib.dump(rf_model_count,\"../working/rf.joblib\")"
   ]
  },
  {
   "cell_type": "markdown",
   "metadata": {},
   "source": [
    "## XGBoost Classifier"
   ]
  },
  {
   "cell_type": "code",
   "execution_count": 35,
   "metadata": {
    "execution": {
     "iopub.execute_input": "2023-06-22T11:05:01.170932Z",
     "iopub.status.busy": "2023-06-22T11:05:01.170143Z",
     "iopub.status.idle": "2023-06-22T11:05:01.175762Z",
     "shell.execute_reply": "2023-06-22T11:05:01.174932Z",
     "shell.execute_reply.started": "2023-06-22T11:05:01.170887Z"
    }
   },
   "outputs": [],
   "source": [
    "xgb = XGBClassifier()"
   ]
  },
  {
   "cell_type": "code",
   "execution_count": 36,
   "metadata": {
    "execution": {
     "iopub.execute_input": "2023-06-22T11:05:02.284308Z",
     "iopub.status.busy": "2023-06-22T11:05:02.283530Z",
     "iopub.status.idle": "2023-06-22T11:06:27.984664Z",
     "shell.execute_reply": "2023-06-22T11:06:27.983389Z",
     "shell.execute_reply.started": "2023-06-22T11:05:02.284268Z"
    }
   },
   "outputs": [],
   "source": [
    "xgb_model_count = xgb.fit(x_train_count, y_train, verbose=2)"
   ]
  },
  {
   "cell_type": "code",
   "execution_count": 37,
   "metadata": {
    "execution": {
     "iopub.execute_input": "2023-06-22T11:09:01.026493Z",
     "iopub.status.busy": "2023-06-22T11:09:01.026059Z",
     "iopub.status.idle": "2023-06-22T11:09:01.357821Z",
     "shell.execute_reply": "2023-06-22T11:09:01.356678Z",
     "shell.execute_reply.started": "2023-06-22T11:09:01.026462Z"
    }
   },
   "outputs": [
    {
     "data": {
      "text/plain": [
       "0.9161096021503863"
      ]
     },
     "execution_count": 37,
     "metadata": {},
     "output_type": "execute_result"
    }
   ],
   "source": [
    "y_pred = xgb_model_count.predict(x_test_count)\n",
    "accuracy_score(y_test, y_pred)"
   ]
  },
  {
   "cell_type": "markdown",
   "metadata": {},
   "source": [
    "### Test on New Data"
   ]
  },
  {
   "cell_type": "code",
   "execution_count": 38,
   "metadata": {
    "execution": {
     "iopub.execute_input": "2023-06-22T11:09:03.684658Z",
     "iopub.status.busy": "2023-06-22T11:09:03.684263Z",
     "iopub.status.idle": "2023-06-22T11:09:03.696315Z",
     "shell.execute_reply": "2023-06-22T11:09:03.695251Z",
     "shell.execute_reply.started": "2023-06-22T11:09:03.684628Z"
    }
   },
   "outputs": [
    {
     "data": {
      "text/plain": [
       "review    0\n",
       "dtype: int64"
      ]
     },
     "execution_count": 38,
     "metadata": {},
     "output_type": "execute_result"
    }
   ],
   "source": [
    "newData.isnull().sum()"
   ]
  },
  {
   "cell_type": "code",
   "execution_count": 39,
   "metadata": {
    "execution": {
     "iopub.execute_input": "2023-06-22T11:09:04.660571Z",
     "iopub.status.busy": "2023-06-22T11:09:04.660201Z",
     "iopub.status.idle": "2023-06-22T11:09:04.667749Z",
     "shell.execute_reply": "2023-06-22T11:09:04.666568Z",
     "shell.execute_reply.started": "2023-06-22T11:09:04.660545Z"
    }
   },
   "outputs": [],
   "source": [
    "newData = newData.dropna()"
   ]
  },
  {
   "cell_type": "code",
   "execution_count": 63,
   "metadata": {
    "execution": {
     "iopub.execute_input": "2023-06-22T11:17:42.927932Z",
     "iopub.status.busy": "2023-06-22T11:17:42.926783Z",
     "iopub.status.idle": "2023-06-22T11:18:11.543035Z",
     "shell.execute_reply": "2023-06-22T11:18:11.542094Z",
     "shell.execute_reply.started": "2023-06-22T11:17:42.927889Z"
    }
   },
   "outputs": [],
   "source": [
    "raw[\"xgb\"] = newData[\"review\"].apply(lambda x: xgb_model_count.predict(count.transform(pd.Series(x))))"
   ]
  },
  {
   "cell_type": "code",
   "execution_count": 64,
   "metadata": {
    "execution": {
     "iopub.execute_input": "2023-06-22T11:18:15.214370Z",
     "iopub.status.busy": "2023-06-22T11:18:15.213067Z",
     "iopub.status.idle": "2023-06-22T11:18:15.229569Z",
     "shell.execute_reply": "2023-06-22T11:18:15.228385Z",
     "shell.execute_reply.started": "2023-06-22T11:18:15.214332Z"
    }
   },
   "outputs": [
    {
     "data": {
      "text/html": [
       "<div>\n",
       "<style scoped>\n",
       "    .dataframe tbody tr th:only-of-type {\n",
       "        vertical-align: middle;\n",
       "    }\n",
       "\n",
       "    .dataframe tbody tr th {\n",
       "        vertical-align: top;\n",
       "    }\n",
       "\n",
       "    .dataframe thead th {\n",
       "        text-align: right;\n",
       "    }\n",
       "</style>\n",
       "<table border=\"1\" class=\"dataframe\">\n",
       "  <thead>\n",
       "    <tr style=\"text-align: right;\">\n",
       "      <th></th>\n",
       "      <th>review</th>\n",
       "      <th>score</th>\n",
       "      <th>rf</th>\n",
       "      <th>xgb</th>\n",
       "    </tr>\n",
       "  </thead>\n",
       "  <tbody>\n",
       "    <tr>\n",
       "      <th>0</th>\n",
       "      <td>The only problem, I actually counted the amoun...</td>\n",
       "      <td>4.0</td>\n",
       "      <td>[neg]</td>\n",
       "      <td>[0]</td>\n",
       "    </tr>\n",
       "    <tr>\n",
       "      <th>1</th>\n",
       "      <td>Me and my wife and my kids love them</td>\n",
       "      <td>5.0</td>\n",
       "      <td>[pos]</td>\n",
       "      <td>[1]</td>\n",
       "    </tr>\n",
       "    <tr>\n",
       "      <th>2</th>\n",
       "      <td>Definitely one of the best candies you can buy...</td>\n",
       "      <td>5.0</td>\n",
       "      <td>[pos]</td>\n",
       "      <td>[1]</td>\n",
       "    </tr>\n",
       "    <tr>\n",
       "      <th>3</th>\n",
       "      <td>The price is great, but there are mostly grape...</td>\n",
       "      <td>3.0</td>\n",
       "      <td>[pos]</td>\n",
       "      <td>[1]</td>\n",
       "    </tr>\n",
       "    <tr>\n",
       "      <th>4</th>\n",
       "      <td>Box and packaging in great shape, kids love them.</td>\n",
       "      <td>5.0</td>\n",
       "      <td>[pos]</td>\n",
       "      <td>[1]</td>\n",
       "    </tr>\n",
       "  </tbody>\n",
       "</table>\n",
       "</div>"
      ],
      "text/plain": [
       "                                              review  score     rf  xgb\n",
       "0  The only problem, I actually counted the amoun...    4.0  [neg]  [0]\n",
       "1               Me and my wife and my kids love them    5.0  [pos]  [1]\n",
       "2  Definitely one of the best candies you can buy...    5.0  [pos]  [1]\n",
       "3  The price is great, but there are mostly grape...    3.0  [pos]  [1]\n",
       "4  Box and packaging in great shape, kids love them.    5.0  [pos]  [1]"
      ]
     },
     "execution_count": 64,
     "metadata": {},
     "output_type": "execute_result"
    }
   ],
   "source": [
    "raw.head()"
   ]
  },
  {
   "cell_type": "markdown",
   "metadata": {},
   "source": [
    "### Export Model"
   ]
  },
  {
   "cell_type": "code",
   "execution_count": 42,
   "metadata": {
    "execution": {
     "iopub.execute_input": "2023-06-22T11:09:41.335669Z",
     "iopub.status.busy": "2023-06-22T11:09:41.335281Z",
     "iopub.status.idle": "2023-06-22T11:09:41.342657Z",
     "shell.execute_reply": "2023-06-22T11:09:41.341712Z",
     "shell.execute_reply.started": "2023-06-22T11:09:41.335641Z"
    }
   },
   "outputs": [
    {
     "data": {
      "text/plain": [
       "['rf.joblib', '__notebook_source__.ipynb', '.virtual_documents']"
      ]
     },
     "execution_count": 42,
     "metadata": {},
     "output_type": "execute_result"
    }
   ],
   "source": [
    "os.listdir('/kaggle/working/')"
   ]
  },
  {
   "cell_type": "code",
   "execution_count": 43,
   "metadata": {
    "execution": {
     "iopub.execute_input": "2023-06-22T11:09:43.572062Z",
     "iopub.status.busy": "2023-06-22T11:09:43.571051Z",
     "iopub.status.idle": "2023-06-22T11:09:43.588622Z",
     "shell.execute_reply": "2023-06-22T11:09:43.587374Z",
     "shell.execute_reply.started": "2023-06-22T11:09:43.572028Z"
    }
   },
   "outputs": [
    {
     "data": {
      "text/plain": [
       "['../working/xgb.joblib']"
      ]
     },
     "execution_count": 43,
     "metadata": {},
     "output_type": "execute_result"
    }
   ],
   "source": [
    "joblib.dump(xgb_model_count,\"../working/xgb.joblib\")"
   ]
  },
  {
   "cell_type": "markdown",
   "metadata": {},
   "source": [
    "### Export Results"
   ]
  },
  {
   "cell_type": "code",
   "execution_count": 56,
   "metadata": {
    "execution": {
     "iopub.execute_input": "2023-06-22T11:14:45.511668Z",
     "iopub.status.busy": "2023-06-22T11:14:45.508085Z",
     "iopub.status.idle": "2023-06-22T11:14:45.548160Z",
     "shell.execute_reply": "2023-06-22T11:14:45.546383Z",
     "shell.execute_reply.started": "2023-06-22T11:14:45.511406Z"
    }
   },
   "outputs": [
    {
     "data": {
      "text/html": [
       "<div>\n",
       "<style scoped>\n",
       "    .dataframe tbody tr th:only-of-type {\n",
       "        vertical-align: middle;\n",
       "    }\n",
       "\n",
       "    .dataframe tbody tr th {\n",
       "        vertical-align: top;\n",
       "    }\n",
       "\n",
       "    .dataframe thead th {\n",
       "        text-align: right;\n",
       "    }\n",
       "</style>\n",
       "<table border=\"1\" class=\"dataframe\">\n",
       "  <thead>\n",
       "    <tr style=\"text-align: right;\">\n",
       "      <th></th>\n",
       "      <th>review</th>\n",
       "      <th>score</th>\n",
       "      <th>rf</th>\n",
       "      <th>xgb</th>\n",
       "    </tr>\n",
       "  </thead>\n",
       "  <tbody>\n",
       "    <tr>\n",
       "      <th>0</th>\n",
       "      <td>The only problem, I actually counted the amoun...</td>\n",
       "      <td>4.0</td>\n",
       "      <td>[neg]</td>\n",
       "      <td>[0]</td>\n",
       "    </tr>\n",
       "    <tr>\n",
       "      <th>1</th>\n",
       "      <td>Me and my wife and my kids love them</td>\n",
       "      <td>5.0</td>\n",
       "      <td>[pos]</td>\n",
       "      <td>[1]</td>\n",
       "    </tr>\n",
       "    <tr>\n",
       "      <th>2</th>\n",
       "      <td>Definitely one of the best candies you can buy...</td>\n",
       "      <td>5.0</td>\n",
       "      <td>[pos]</td>\n",
       "      <td>[1]</td>\n",
       "    </tr>\n",
       "    <tr>\n",
       "      <th>3</th>\n",
       "      <td>The price is great, but there are mostly grape...</td>\n",
       "      <td>3.0</td>\n",
       "      <td>[pos]</td>\n",
       "      <td>[1]</td>\n",
       "    </tr>\n",
       "    <tr>\n",
       "      <th>4</th>\n",
       "      <td>Box and packaging in great shape, kids love them.</td>\n",
       "      <td>5.0</td>\n",
       "      <td>[pos]</td>\n",
       "      <td>[1]</td>\n",
       "    </tr>\n",
       "  </tbody>\n",
       "</table>\n",
       "</div>"
      ],
      "text/plain": [
       "                                              review  score     rf  xgb\n",
       "0  The only problem, I actually counted the amoun...    4.0  [neg]  [0]\n",
       "1               Me and my wife and my kids love them    5.0  [pos]  [1]\n",
       "2  Definitely one of the best candies you can buy...    5.0  [pos]  [1]\n",
       "3  The price is great, but there are mostly grape...    3.0  [pos]  [1]\n",
       "4  Box and packaging in great shape, kids love them.    5.0  [pos]  [1]"
      ]
     },
     "execution_count": 56,
     "metadata": {},
     "output_type": "execute_result"
    }
   ],
   "source": [
    "raw.head()"
   ]
  },
  {
   "cell_type": "code",
   "execution_count": 78,
   "metadata": {
    "execution": {
     "iopub.execute_input": "2023-06-22T11:24:44.855562Z",
     "iopub.status.busy": "2023-06-22T11:24:44.855125Z",
     "iopub.status.idle": "2023-06-22T11:24:44.875551Z",
     "shell.execute_reply": "2023-06-22T11:24:44.874313Z",
     "shell.execute_reply.started": "2023-06-22T11:24:44.855532Z"
    }
   },
   "outputs": [],
   "source": [
    "raw[\"xgb\"] = raw[\"xgb\"].apply(lambda x: \"[neg]\" if(x== [0]) else \"[pos]\")"
   ]
  },
  {
   "cell_type": "code",
   "execution_count": 79,
   "metadata": {
    "execution": {
     "iopub.execute_input": "2023-06-22T11:24:52.849034Z",
     "iopub.status.busy": "2023-06-22T11:24:52.848560Z",
     "iopub.status.idle": "2023-06-22T11:24:52.861752Z",
     "shell.execute_reply": "2023-06-22T11:24:52.860774Z",
     "shell.execute_reply.started": "2023-06-22T11:24:52.849000Z"
    }
   },
   "outputs": [],
   "source": [
    "raw = raw.dropna()"
   ]
  },
  {
   "cell_type": "code",
   "execution_count": 82,
   "metadata": {
    "execution": {
     "iopub.execute_input": "2023-06-22T11:25:11.732403Z",
     "iopub.status.busy": "2023-06-22T11:25:11.732010Z",
     "iopub.status.idle": "2023-06-22T11:25:11.739394Z",
     "shell.execute_reply": "2023-06-22T11:25:11.738348Z",
     "shell.execute_reply.started": "2023-06-22T11:25:11.732373Z"
    }
   },
   "outputs": [
    {
     "data": {
      "text/plain": [
       "['rf.joblib', '__notebook_source__.ipynb', 'xgb.joblib', '.virtual_documents']"
      ]
     },
     "execution_count": 82,
     "metadata": {},
     "output_type": "execute_result"
    }
   ],
   "source": [
    "os.listdir('/kaggle/working/')"
   ]
  },
  {
   "cell_type": "code",
   "execution_count": 83,
   "metadata": {
    "execution": {
     "iopub.execute_input": "2023-06-22T11:25:12.830460Z",
     "iopub.status.busy": "2023-06-22T11:25:12.829990Z",
     "iopub.status.idle": "2023-06-22T11:25:12.974651Z",
     "shell.execute_reply": "2023-06-22T11:25:12.973556Z",
     "shell.execute_reply.started": "2023-06-22T11:25:12.830428Z"
    }
   },
   "outputs": [],
   "source": [
    "raw.to_csv('9RFandXGB.csv', index=False, header=True)"
   ]
  },
  {
   "cell_type": "code",
   "execution_count": null,
   "metadata": {},
   "outputs": [],
   "source": []
  }
 ],
 "metadata": {
  "kernelspec": {
   "display_name": "Python 3",
   "language": "python",
   "name": "python3"
  },
  "language_info": {
   "codemirror_mode": {
    "name": "ipython",
    "version": 3
   },
   "file_extension": ".py",
   "mimetype": "text/x-python",
   "name": "python",
   "nbconvert_exporter": "python",
   "pygments_lexer": "ipython3",
   "version": "3.8.8"
  }
 },
 "nbformat": 4,
 "nbformat_minor": 4
}
