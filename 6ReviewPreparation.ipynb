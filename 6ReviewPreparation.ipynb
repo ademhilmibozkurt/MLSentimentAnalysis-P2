{
 "cells": [
  {
   "cell_type": "markdown",
   "id": "37cdd8ff-0601-4c88-8843-6cfcd0bfadb3",
   "metadata": {},
   "source": [
    "## PREPARING REVIEWS"
   ]
  },
  {
   "cell_type": "markdown",
   "id": "19bdbd8b-35f2-471c-bc59-fd270445fa03",
   "metadata": {},
   "source": [
    "#### Import Dependencies"
   ]
  },
  {
   "cell_type": "code",
   "execution_count": 1,
   "id": "de92ef6f-886b-4cb4-8257-47791646ca0a",
   "metadata": {},
   "outputs": [],
   "source": [
    "import pandas as pd\n",
    "import numpy as np\n",
    "import seaborn as sns\n",
    "import missingno as msno\n",
    "from matplotlib import pyplot as plt\n",
    "plt.style.use('ggplot')\n",
    "\n",
    "import warnings\n",
    "warnings.filterwarnings('ignore')"
   ]
  },
  {
   "cell_type": "markdown",
   "id": "63cbfc1e-7110-4c3e-9916-3d0b71e14929",
   "metadata": {},
   "source": [
    "#### Read CSV"
   ]
  },
  {
   "cell_type": "code",
   "execution_count": 2,
   "id": "bb5d478b-cc92-461b-b9d6-d86a9a8156e0",
   "metadata": {},
   "outputs": [],
   "source": [
    "df = pd.read_csv(\"5reviews.csv\")"
   ]
  },
  {
   "cell_type": "markdown",
   "id": "2cf3525a-d2d3-489f-9231-3cd028afe675",
   "metadata": {},
   "source": [
    "#### First Look on Data"
   ]
  },
  {
   "cell_type": "code",
   "execution_count": 3,
   "id": "5e9bfb17-4e1b-4090-9b64-7b711d7e09f0",
   "metadata": {},
   "outputs": [
    {
     "data": {
      "text/html": [
       "<div>\n",
       "<style scoped>\n",
       "    .dataframe tbody tr th:only-of-type {\n",
       "        vertical-align: middle;\n",
       "    }\n",
       "\n",
       "    .dataframe tbody tr th {\n",
       "        vertical-align: top;\n",
       "    }\n",
       "\n",
       "    .dataframe thead th {\n",
       "        text-align: right;\n",
       "    }\n",
       "</style>\n",
       "<table border=\"1\" class=\"dataframe\">\n",
       "  <thead>\n",
       "    <tr style=\"text-align: right;\">\n",
       "      <th></th>\n",
       "      <th>review</th>\n",
       "      <th>score</th>\n",
       "    </tr>\n",
       "  </thead>\n",
       "  <tbody>\n",
       "    <tr>\n",
       "      <th>0</th>\n",
       "      <td>The only problem, I actually counted the amoun...</td>\n",
       "      <td>4.0</td>\n",
       "    </tr>\n",
       "    <tr>\n",
       "      <th>1</th>\n",
       "      <td>Me and my wife and my kids love them</td>\n",
       "      <td>5.0</td>\n",
       "    </tr>\n",
       "    <tr>\n",
       "      <th>2</th>\n",
       "      <td>Definitely one of the best candies you can buy...</td>\n",
       "      <td>5.0</td>\n",
       "    </tr>\n",
       "    <tr>\n",
       "      <th>3</th>\n",
       "      <td>The price is great, but there are mostly grape...</td>\n",
       "      <td>3.0</td>\n",
       "    </tr>\n",
       "    <tr>\n",
       "      <th>4</th>\n",
       "      <td>Box and packaging in great shape, kids love them.</td>\n",
       "      <td>5.0</td>\n",
       "    </tr>\n",
       "  </tbody>\n",
       "</table>\n",
       "</div>"
      ],
      "text/plain": [
       "                                              review  score\n",
       "0  The only problem, I actually counted the amoun...    4.0\n",
       "1               Me and my wife and my kids love them    5.0\n",
       "2  Definitely one of the best candies you can buy...    5.0\n",
       "3  The price is great, but there are mostly grape...    3.0\n",
       "4  Box and packaging in great shape, kids love them.    5.0"
      ]
     },
     "execution_count": 3,
     "metadata": {},
     "output_type": "execute_result"
    }
   ],
   "source": [
    "df.head(5)"
   ]
  },
  {
   "cell_type": "code",
   "execution_count": 4,
   "id": "fda51a87-acfb-4cea-8e04-10e62eee3f50",
   "metadata": {},
   "outputs": [
    {
     "data": {
      "text/plain": [
       "(5248, 2)"
      ]
     },
     "execution_count": 4,
     "metadata": {},
     "output_type": "execute_result"
    }
   ],
   "source": [
    "df.shape"
   ]
  },
  {
   "cell_type": "code",
   "execution_count": 5,
   "id": "22741039-0a49-41a7-b830-0e5290f53998",
   "metadata": {},
   "outputs": [
    {
     "data": {
      "text/html": [
       "<div>\n",
       "<style scoped>\n",
       "    .dataframe tbody tr th:only-of-type {\n",
       "        vertical-align: middle;\n",
       "    }\n",
       "\n",
       "    .dataframe tbody tr th {\n",
       "        vertical-align: top;\n",
       "    }\n",
       "\n",
       "    .dataframe thead th {\n",
       "        text-align: right;\n",
       "    }\n",
       "</style>\n",
       "<table border=\"1\" class=\"dataframe\">\n",
       "  <thead>\n",
       "    <tr style=\"text-align: right;\">\n",
       "      <th></th>\n",
       "      <th>count</th>\n",
       "      <th>mean</th>\n",
       "      <th>std</th>\n",
       "      <th>min</th>\n",
       "      <th>25%</th>\n",
       "      <th>50%</th>\n",
       "      <th>75%</th>\n",
       "      <th>max</th>\n",
       "    </tr>\n",
       "  </thead>\n",
       "  <tbody>\n",
       "    <tr>\n",
       "      <th>score</th>\n",
       "      <td>5248.0</td>\n",
       "      <td>3.959985</td>\n",
       "      <td>1.529308</td>\n",
       "      <td>1.0</td>\n",
       "      <td>3.0</td>\n",
       "      <td>5.0</td>\n",
       "      <td>5.0</td>\n",
       "      <td>5.0</td>\n",
       "    </tr>\n",
       "  </tbody>\n",
       "</table>\n",
       "</div>"
      ],
      "text/plain": [
       "        count      mean       std  min  25%  50%  75%  max\n",
       "score  5248.0  3.959985  1.529308  1.0  3.0  5.0  5.0  5.0"
      ]
     },
     "execution_count": 5,
     "metadata": {},
     "output_type": "execute_result"
    }
   ],
   "source": [
    "df.describe().T"
   ]
  },
  {
   "cell_type": "markdown",
   "id": "0bad9617-1eff-49d7-9105-96231b56f0b1",
   "metadata": {},
   "source": [
    "### Data Preprocessing"
   ]
  },
  {
   "cell_type": "markdown",
   "id": "82406e73-a8a4-4dcf-9da5-1b79b0b595ea",
   "metadata": {},
   "source": [
    "#### 1.Missing Observation Analysis"
   ]
  },
  {
   "cell_type": "code",
   "execution_count": 6,
   "id": "bddaac35-af33-4294-8a0e-474ea07bc01b",
   "metadata": {},
   "outputs": [
    {
     "data": {
      "text/plain": [
       "True"
      ]
     },
     "execution_count": 6,
     "metadata": {},
     "output_type": "execute_result"
    }
   ],
   "source": [
    "df.isnull().values.any()"
   ]
  },
  {
   "cell_type": "code",
   "execution_count": 7,
   "id": "c8a884a7-0db2-4535-a014-20d407ac7d8f",
   "metadata": {},
   "outputs": [
    {
     "data": {
      "text/plain": [
       "review    22\n",
       "score      0\n",
       "dtype: int64"
      ]
     },
     "execution_count": 7,
     "metadata": {},
     "output_type": "execute_result"
    }
   ],
   "source": [
    "df.isnull().sum()"
   ]
  },
  {
   "cell_type": "markdown",
   "id": "dfa75582-24fb-4430-9316-dc48df00773f",
   "metadata": {},
   "source": [
    "#### 2.Visualization Missing Values"
   ]
  },
  {
   "cell_type": "code",
   "execution_count": 8,
   "id": "3fdc6c6d-9ef1-4665-a542-08dd73e4b78a",
   "metadata": {},
   "outputs": [
    {
     "data": {
      "image/png": "[encoded data removed]",
      "text/plain": [
       "<Figure size 720x360 with 3 Axes>"
      ]
     },
     "metadata": {},
     "output_type": "display_data"
    }
   ],
   "source": [
    "msno.bar(df, figsize=(10,5));"
   ]
  },
  {
   "cell_type": "code",
   "execution_count": 9,
   "id": "2f2614ce-e252-4ee9-9bc0-f507ee4c5032",
   "metadata": {},
   "outputs": [],
   "source": [
    "df = df.dropna()"
   ]
  },
  {
   "cell_type": "code",
   "execution_count": 10,
   "id": "5c11a73f-b4b0-41ab-8d01-0d35efc8ab89",
   "metadata": {},
   "outputs": [
    {
     "data": {
      "text/plain": [
       "review    0\n",
       "score     0\n",
       "dtype: int64"
      ]
     },
     "execution_count": 10,
     "metadata": {},
     "output_type": "execute_result"
    }
   ],
   "source": [
    "df.isnull().sum()"
   ]
  },
  {
   "cell_type": "code",
   "execution_count": 11,
   "id": "4b02d12a-a241-4c35-b2b4-ce8818c3140b",
   "metadata": {},
   "outputs": [
    {
     "data": {
      "text/plain": [
       "(5226, 2)"
      ]
     },
     "execution_count": 11,
     "metadata": {},
     "output_type": "execute_result"
    }
   ],
   "source": [
    "df.shape"
   ]
  },
  {
   "cell_type": "markdown",
   "id": "f7ae9ea6-373d-4a42-bfe7-7914e5c4b242",
   "metadata": {},
   "source": [
    "#### 3.Duplicated Value Analysis"
   ]
  },
  {
   "cell_type": "code",
   "execution_count": 14,
   "id": "47b8d386-eb57-4783-a001-951148ff4477",
   "metadata": {},
   "outputs": [
    {
     "data": {
      "text/plain": [
       "506"
      ]
     },
     "execution_count": 14,
     "metadata": {},
     "output_type": "execute_result"
    }
   ],
   "source": [
    "df[\"review\"].duplicated().sum()"
   ]
  },
  {
   "cell_type": "code",
   "execution_count": 15,
   "id": "b6b4fea0-e8eb-4d44-b9af-3fe71877f705",
   "metadata": {},
   "outputs": [],
   "source": [
    "df = df.drop_duplicates(subset=['review'])"
   ]
  },
  {
   "cell_type": "code",
   "execution_count": 17,
   "id": "c7c8f7ec-211d-45e2-9d0d-8340913a3b95",
   "metadata": {},
   "outputs": [
    {
     "data": {
      "text/plain": [
       "(4720, 2)"
      ]
     },
     "execution_count": 17,
     "metadata": {},
     "output_type": "execute_result"
    }
   ],
   "source": [
    "df.shape"
   ]
  },
  {
   "cell_type": "markdown",
   "id": "810b5a1e-365d-449e-ac9b-dcb99e0d491b",
   "metadata": {},
   "source": [
    "### Text Processing"
   ]
  },
  {
   "cell_type": "markdown",
   "id": "8343fb53-15b4-4e0e-ac90-5bcbe821bdb6",
   "metadata": {},
   "source": [
    "#### Import Dependencies"
   ]
  },
  {
   "cell_type": "code",
   "execution_count": 19,
   "id": "14c46ba2-b304-4bd2-9d44-3b17a4fd9ee4",
   "metadata": {},
   "outputs": [],
   "source": [
    "import re\n",
    "import nltk\n",
    "from nltk.corpus import stopwords\n",
    "\n",
    "from textblob import TextBlob\n",
    "from textblob import Word"
   ]
  },
  {
   "cell_type": "markdown",
   "id": "1da1fdc0-56b5-4785-9268-419355906e73",
   "metadata": {},
   "source": [
    "#### 1.Extract Reviews"
   ]
  },
  {
   "cell_type": "code",
   "execution_count": 25,
   "id": "6fe3cc25-9fc6-40b3-98e9-d76266771f53",
   "metadata": {},
   "outputs": [],
   "source": [
    "reviews = df[\"review\"].copy()\n",
    "scores = df[\"score\"].copy()"
   ]
  },
  {
   "cell_type": "markdown",
   "id": "ecb827ce-f278-40c1-8db3-d6690592ca5b",
   "metadata": {},
   "source": [
    "#### 2.Vectorize Sentences"
   ]
  },
  {
   "cell_type": "code",
   "execution_count": 28,
   "id": "4bb6629b-de57-480e-8217-cd2ded679856",
   "metadata": {},
   "outputs": [],
   "source": [
    "r = pd.Series(reviews)"
   ]
  },
  {
   "cell_type": "code",
   "execution_count": 29,
   "id": "c8c3d3cc-b743-4b4e-a882-40dc2507a1b4",
   "metadata": {},
   "outputs": [],
   "source": [
    "reviews = pd.DataFrame(r)"
   ]
  },
  {
   "cell_type": "code",
   "execution_count": 30,
   "id": "19096fd9-40f7-473b-87df-5da799355f66",
   "metadata": {},
   "outputs": [
    {
     "data": {
      "text/html": [
       "<div>\n",
       "<style scoped>\n",
       "    .dataframe tbody tr th:only-of-type {\n",
       "        vertical-align: middle;\n",
       "    }\n",
       "\n",
       "    .dataframe tbody tr th {\n",
       "        vertical-align: top;\n",
       "    }\n",
       "\n",
       "    .dataframe thead th {\n",
       "        text-align: right;\n",
       "    }\n",
       "</style>\n",
       "<table border=\"1\" class=\"dataframe\">\n",
       "  <thead>\n",
       "    <tr style=\"text-align: right;\">\n",
       "      <th></th>\n",
       "      <th>review</th>\n",
       "    </tr>\n",
       "  </thead>\n",
       "  <tbody>\n",
       "    <tr>\n",
       "      <th>0</th>\n",
       "      <td>The only problem, I actually counted the amoun...</td>\n",
       "    </tr>\n",
       "    <tr>\n",
       "      <th>1</th>\n",
       "      <td>Me and my wife and my kids love them</td>\n",
       "    </tr>\n",
       "    <tr>\n",
       "      <th>2</th>\n",
       "      <td>Definitely one of the best candies you can buy...</td>\n",
       "    </tr>\n",
       "    <tr>\n",
       "      <th>3</th>\n",
       "      <td>The price is great, but there are mostly grape...</td>\n",
       "    </tr>\n",
       "    <tr>\n",
       "      <th>4</th>\n",
       "      <td>Box and packaging in great shape, kids love them.</td>\n",
       "    </tr>\n",
       "  </tbody>\n",
       "</table>\n",
       "</div>"
      ],
      "text/plain": [
       "                                              review\n",
       "0  The only problem, I actually counted the amoun...\n",
       "1               Me and my wife and my kids love them\n",
       "2  Definitely one of the best candies you can buy...\n",
       "3  The price is great, but there are mostly grape...\n",
       "4  Box and packaging in great shape, kids love them."
      ]
     },
     "execution_count": 30,
     "metadata": {},
     "output_type": "execute_result"
    }
   ],
   "source": [
    "reviews.head()"
   ]
  },
  {
   "cell_type": "markdown",
   "id": "e258732f-b332-4e02-a0a0-8785d9ff712c",
   "metadata": {},
   "source": [
    "#### 3.Delete HTML Tags"
   ]
  },
  {
   "cell_type": "code",
   "execution_count": 32,
   "id": "44305b4e-e409-4a4f-a953-34b757f8fe56",
   "metadata": {},
   "outputs": [
    {
     "data": {
      "text/plain": [
       "'The most traumatic experience ever, buy it at your own risk. The machine caught fire the first time I used it, and there were other family members who were in the house as well, jeopardising not just my life but the lives of my other family members. We had to extinguish the fire using a fire extinguisher.When I tried to return it, it was a whole other traumatic experience. Shipping it back itself costs >USD290, and after several back and forths with the terrible Amazon customer service team, they promised that the shipping fee will be refunded back to me as long as I produce an invoice.So after it was shipped, I sent the invoice to them and they then say that the shipping fee will be refunded as AMAZON PROMOTIONAL CREDIT.DO NOT - I REPEAT - DO NOT BUY THIS MACHINE. I spent so many hours trying to process the refund and going back and forth, wasting my time and my money.'"
      ]
     },
     "execution_count": 32,
     "metadata": {},
     "output_type": "execute_result"
    }
   ],
   "source": [
    "reviews[\"review\"][3969]"
   ]
  },
  {
   "cell_type": "code",
   "execution_count": 33,
   "id": "dbe25f75-53f4-4a35-9750-47e7b87a613b",
   "metadata": {},
   "outputs": [
    {
     "data": {
      "text/plain": [
       "'The most traumatic experience ever, buy it at your own risk. The machine caught fire the first time I used it, and there were other family members who were in the house as well, jeopardising not just my life but the lives of my other family members. We had to extinguish the fire using a fire extinguisher.When I tried to return it, it was a whole other traumatic experience. Shipping it back itself costs >USD290, and after several back and forths with the terrible Amazon customer service team, they promised that the shipping fee will be refunded back to me as long as I produce an invoice.So after it was shipped, I sent the invoice to them and they then say that the shipping fee will be refunded as AMAZON PROMOTIONAL CREDIT.DO NOT - I REPEAT - DO NOT BUY THIS MACHINE. I spent so many hours trying to process the refund and going back and forth, wasting my time and my money.'"
      ]
     },
     "execution_count": 33,
     "metadata": {},
     "output_type": "execute_result"
    }
   ],
   "source": [
    "re.sub('<.*?>', '', reviews[\"review\"][3969])"
   ]
  },
  {
   "cell_type": "code",
   "execution_count": 34,
   "id": "a8b786ae-5488-4d96-b55a-ba59eddacf64",
   "metadata": {},
   "outputs": [],
   "source": [
    "# remove function\n",
    "def removeTags(string):\n",
    "    r = re.sub('<.*?>','', string)\n",
    "    return r"
   ]
  },
  {
   "cell_type": "code",
   "execution_count": 35,
   "id": "dcb04a20-8635-48fa-ab86-7ad74b911286",
   "metadata": {},
   "outputs": [
    {
     "data": {
      "text/plain": [
       "'The most traumatic experience ever, buy it at your own risk. The machine caught fire the first time I used it, and there were other family members who were in the house as well, jeopardising not just my life but the lives of my other family members. We had to extinguish the fire using a fire extinguisher.When I tried to return it, it was a whole other traumatic experience. Shipping it back itself costs >USD290, and after several back and forths with the terrible Amazon customer service team, they promised that the shipping fee will be refunded back to me as long as I produce an invoice.So after it was shipped, I sent the invoice to them and they then say that the shipping fee will be refunded as AMAZON PROMOTIONAL CREDIT.DO NOT - I REPEAT - DO NOT BUY THIS MACHINE. I spent so many hours trying to process the refund and going back and forth, wasting my time and my money.'"
      ]
     },
     "execution_count": 35,
     "metadata": {},
     "output_type": "execute_result"
    }
   ],
   "source": [
    "removeTags(reviews[\"review\"][3969])"
   ]
  },
  {
   "cell_type": "code",
   "execution_count": 36,
   "id": "ba4f50c9-decc-49ca-8142-0d4620812eae",
   "metadata": {},
   "outputs": [],
   "source": [
    "withoutTags = reviews[\"review\"].apply(lambda x: removeTags(x))"
   ]
  },
  {
   "cell_type": "code",
   "execution_count": 37,
   "id": "a983e691-6b5d-431b-b887-1ff46784af3f",
   "metadata": {},
   "outputs": [],
   "source": [
    "reviews = pd.DataFrame(withoutTags)"
   ]
  },
  {
   "cell_type": "markdown",
   "id": "2842967c-ec28-4488-9b81-94cd1bf478a3",
   "metadata": {},
   "source": [
    "#### 4.Delete Numerical Values"
   ]
  },
  {
   "cell_type": "code",
   "execution_count": 39,
   "id": "2572f69e-f6bf-46fd-b3ec-85c566cd2736",
   "metadata": {},
   "outputs": [
    {
     "data": {
      "text/plain": [
       "\"Definitely one of the best candies you can buy for selling at school. First of all they don't melt while in a backpack for hours. Second of all you can make an 80% profit margin by selling 2 airheads for $1. And last of all I sold all 60 airheads in just 4 days!\""
      ]
     },
     "execution_count": 39,
     "metadata": {},
     "output_type": "execute_result"
    }
   ],
   "source": [
    "reviews[\"review\"][2]"
   ]
  },
  {
   "cell_type": "code",
   "execution_count": 44,
   "id": "25fbd6cb-12d4-424a-afcc-549dd64727e1",
   "metadata": {},
   "outputs": [],
   "source": [
    "removeNumerics = reviews[\"review\"].str.replace(\"\\d\",\"\")"
   ]
  },
  {
   "cell_type": "code",
   "execution_count": 47,
   "id": "0a258393-a8c6-4975-9a73-4e0f3e913a96",
   "metadata": {},
   "outputs": [
    {
     "data": {
      "text/plain": [
       "\"Definitely one of the best candies you can buy for selling at school. First of all they don't melt while in a backpack for hours. Second of all you can make an % profit margin by selling  airheads for $. And last of all I sold all  airheads in just  days!\""
      ]
     },
     "execution_count": 47,
     "metadata": {},
     "output_type": "execute_result"
    }
   ],
   "source": [
    "removeNumerics[2]"
   ]
  },
  {
   "cell_type": "code",
   "execution_count": 48,
   "id": "e80f1f0b-4c41-4ed4-9f21-baa70aac4633",
   "metadata": {},
   "outputs": [],
   "source": [
    "reviews = pd.DataFrame(removeNumerics)"
   ]
  },
  {
   "cell_type": "markdown",
   "id": "3198b895-e811-4bca-8a8a-ed3875b57469",
   "metadata": {},
   "source": [
    "#### 5.Upper/Lower Cases"
   ]
  },
  {
   "cell_type": "code",
   "execution_count": 50,
   "id": "87145c7a-f1d2-47f4-aa68-c44f2a86ecd3",
   "metadata": {},
   "outputs": [
    {
     "data": {
      "text/plain": [
       "0       the only problem, i actually counted the amoun...\n",
       "1                    me and my wife and my kids love them\n",
       "2       definitely one of the best candies you can buy...\n",
       "3       the price is great, but there are mostly grape...\n",
       "4       box and packaging in great shape, kids love them.\n",
       "                              ...                        \n",
       "5243                       perfect snack in the afternoon\n",
       "5244    poor & misleading variety for a pack. was expe...\n",
       "5245     the flavours are fantastic, coconut is the best.\n",
       "5246    requires much chewing, but an adequate meal su...\n",
       "5247    i tried all the flavors and they are all awful...\n",
       "Name: review, Length: 4720, dtype: object"
      ]
     },
     "execution_count": 50,
     "metadata": {},
     "output_type": "execute_result"
    }
   ],
   "source": [
    "reviews[\"review\"].apply(lambda x: \" \".join(x.lower() for x in x.split()))"
   ]
  },
  {
   "cell_type": "code",
   "execution_count": 51,
   "id": "5620817a-9881-4935-80fc-a85e3902ad65",
   "metadata": {},
   "outputs": [],
   "source": [
    "toLower = reviews[\"review\"].apply(lambda x: \" \".join(x.lower() for x in x.split()))"
   ]
  },
  {
   "cell_type": "code",
   "execution_count": 52,
   "id": "c0ac8e01-27ce-44f3-9547-200433006005",
   "metadata": {},
   "outputs": [
    {
     "data": {
      "text/html": [
       "<div>\n",
       "<style scoped>\n",
       "    .dataframe tbody tr th:only-of-type {\n",
       "        vertical-align: middle;\n",
       "    }\n",
       "\n",
       "    .dataframe tbody tr th {\n",
       "        vertical-align: top;\n",
       "    }\n",
       "\n",
       "    .dataframe thead th {\n",
       "        text-align: right;\n",
       "    }\n",
       "</style>\n",
       "<table border=\"1\" class=\"dataframe\">\n",
       "  <thead>\n",
       "    <tr style=\"text-align: right;\">\n",
       "      <th></th>\n",
       "      <th>review</th>\n",
       "    </tr>\n",
       "  </thead>\n",
       "  <tbody>\n",
       "    <tr>\n",
       "      <th>0</th>\n",
       "      <td>the only problem, i actually counted the amoun...</td>\n",
       "    </tr>\n",
       "    <tr>\n",
       "      <th>1</th>\n",
       "      <td>me and my wife and my kids love them</td>\n",
       "    </tr>\n",
       "    <tr>\n",
       "      <th>2</th>\n",
       "      <td>definitely one of the best candies you can buy...</td>\n",
       "    </tr>\n",
       "    <tr>\n",
       "      <th>3</th>\n",
       "      <td>the price is great, but there are mostly grape...</td>\n",
       "    </tr>\n",
       "    <tr>\n",
       "      <th>4</th>\n",
       "      <td>box and packaging in great shape, kids love them.</td>\n",
       "    </tr>\n",
       "  </tbody>\n",
       "</table>\n",
       "</div>"
      ],
      "text/plain": [
       "                                              review\n",
       "0  the only problem, i actually counted the amoun...\n",
       "1               me and my wife and my kids love them\n",
       "2  definitely one of the best candies you can buy...\n",
       "3  the price is great, but there are mostly grape...\n",
       "4  box and packaging in great shape, kids love them."
      ]
     },
     "execution_count": 52,
     "metadata": {},
     "output_type": "execute_result"
    }
   ],
   "source": [
    "reviews = pd.DataFrame(toLower)\n",
    "reviews.head()"
   ]
  },
  {
   "cell_type": "markdown",
   "id": "5d194917-bc49-4c35-89e2-fc6cf0f13f68",
   "metadata": {},
   "source": [
    "#### 6.Stopwords"
   ]
  },
  {
   "cell_type": "code",
   "execution_count": 53,
   "id": "9b90c127-2b62-4d9b-8bb2-0b78d6592985",
   "metadata": {},
   "outputs": [
    {
     "data": {
      "text/plain": [
       "['i', 'me', 'my', 'myself', 'we']"
      ]
     },
     "execution_count": 53,
     "metadata": {},
     "output_type": "execute_result"
    }
   ],
   "source": [
    "sw = stopwords.words('english')\n",
    "sw[:5]"
   ]
  },
  {
   "cell_type": "code",
   "execution_count": 54,
   "id": "89446092-ebdd-48b4-aae5-23f225071fe0",
   "metadata": {},
   "outputs": [
    {
     "data": {
      "text/plain": [
       "0              problem, actually counted amount box. box,\n",
       "1                                          wife kids love\n",
       "2       definitely one best candies buy selling school...\n",
       "3           price great, mostly grape orange flavors box.\n",
       "4              box packaging great shape, kids love them.\n",
       "                              ...                        \n",
       "5243                              perfect snack afternoon\n",
       "5244    poor & misleading variety pack. expecting blue...\n",
       "5245                    flavours fantastic, coconut best.\n",
       "5246    requires much chewing, adequate meal substitut...\n",
       "5247       tried flavors awful! super gross texture well.\n",
       "Name: review, Length: 4720, dtype: object"
      ]
     },
     "execution_count": 54,
     "metadata": {},
     "output_type": "execute_result"
    }
   ],
   "source": [
    "reviews[\"review\"].apply(lambda x: \" \".join(x for x in x.split() if x not in sw))"
   ]
  },
  {
   "cell_type": "code",
   "execution_count": 55,
   "id": "38c10f74-0296-421d-a36f-3466b0d7e4fb",
   "metadata": {},
   "outputs": [],
   "source": [
    "withoutSW = reviews[\"review\"].apply(lambda x: \" \".join(x for x in x.split() if x not in sw))"
   ]
  },
  {
   "cell_type": "code",
   "execution_count": 56,
   "id": "5c486d6e-6ddd-4c6f-b0da-76036418a794",
   "metadata": {},
   "outputs": [
    {
     "data": {
      "text/html": [
       "<div>\n",
       "<style scoped>\n",
       "    .dataframe tbody tr th:only-of-type {\n",
       "        vertical-align: middle;\n",
       "    }\n",
       "\n",
       "    .dataframe tbody tr th {\n",
       "        vertical-align: top;\n",
       "    }\n",
       "\n",
       "    .dataframe thead th {\n",
       "        text-align: right;\n",
       "    }\n",
       "</style>\n",
       "<table border=\"1\" class=\"dataframe\">\n",
       "  <thead>\n",
       "    <tr style=\"text-align: right;\">\n",
       "      <th></th>\n",
       "      <th>review</th>\n",
       "    </tr>\n",
       "  </thead>\n",
       "  <tbody>\n",
       "    <tr>\n",
       "      <th>0</th>\n",
       "      <td>problem, actually counted amount box. box,</td>\n",
       "    </tr>\n",
       "    <tr>\n",
       "      <th>1</th>\n",
       "      <td>wife kids love</td>\n",
       "    </tr>\n",
       "    <tr>\n",
       "      <th>2</th>\n",
       "      <td>definitely one best candies buy selling school...</td>\n",
       "    </tr>\n",
       "    <tr>\n",
       "      <th>3</th>\n",
       "      <td>price great, mostly grape orange flavors box.</td>\n",
       "    </tr>\n",
       "    <tr>\n",
       "      <th>4</th>\n",
       "      <td>box packaging great shape, kids love them.</td>\n",
       "    </tr>\n",
       "  </tbody>\n",
       "</table>\n",
       "</div>"
      ],
      "text/plain": [
       "                                              review\n",
       "0         problem, actually counted amount box. box,\n",
       "1                                     wife kids love\n",
       "2  definitely one best candies buy selling school...\n",
       "3      price great, mostly grape orange flavors box.\n",
       "4         box packaging great shape, kids love them."
      ]
     },
     "execution_count": 56,
     "metadata": {},
     "output_type": "execute_result"
    }
   ],
   "source": [
    "reviews = pd.DataFrame(withoutSW)\n",
    "reviews.head()"
   ]
  },
  {
   "cell_type": "markdown",
   "id": "5c477ffc-872a-4210-94d5-ddfac410f106",
   "metadata": {},
   "source": [
    "#### 7.Delete Punctuation Marks"
   ]
  },
  {
   "cell_type": "code",
   "execution_count": 57,
   "id": "ea806c4a-7237-4c3d-aacf-d9a702178171",
   "metadata": {},
   "outputs": [
    {
     "data": {
      "text/plain": [
       "'definitely one best candies buy selling school. first melt backpack hours. second make % profit margin selling airheads $. last sold airheads days!'"
      ]
     },
     "execution_count": 57,
     "metadata": {},
     "output_type": "execute_result"
    }
   ],
   "source": [
    "reviews[\"review\"][2]"
   ]
  },
  {
   "cell_type": "code",
   "execution_count": 58,
   "id": "f82c8a0a-de89-421f-89c2-99852b9053d4",
   "metadata": {},
   "outputs": [],
   "source": [
    "removeMarks = reviews[\"review\"].str.replace(\"[^\\w\\s]\",\"\")"
   ]
  },
  {
   "cell_type": "code",
   "execution_count": 60,
   "id": "ee97d9fb-76d8-4975-8ff8-432a6ef67cc3",
   "metadata": {},
   "outputs": [
    {
     "data": {
      "text/plain": [
       "'definitely one best candies buy selling school first melt backpack hours second make  profit margin selling airheads  last sold airheads days'"
      ]
     },
     "execution_count": 60,
     "metadata": {},
     "output_type": "execute_result"
    }
   ],
   "source": [
    "removeMarks[2]"
   ]
  },
  {
   "cell_type": "code",
   "execution_count": 61,
   "id": "0ccd059a-5020-4935-b376-a3cd016b5050",
   "metadata": {},
   "outputs": [],
   "source": [
    "reviews = pd.DataFrame(removeMarks)"
   ]
  },
  {
   "cell_type": "markdown",
   "id": "b1babb52-48b3-4ed2-951f-1c78c8b28ebe",
   "metadata": {},
   "source": [
    "### Export Data"
   ]
  },
  {
   "cell_type": "code",
   "execution_count": 62,
   "id": "79ff30a3-7742-4c85-9adf-469989c23bf2",
   "metadata": {},
   "outputs": [],
   "source": [
    "reviews.to_csv(r'7reviewsPrepared.csv', index=False, header=True)"
   ]
  },
  {
   "cell_type": "code",
   "execution_count": 63,
   "id": "1ec2de12-634e-42b2-aed6-93810ebae8be",
   "metadata": {},
   "outputs": [],
   "source": [
    "scores.to_csv(r'7scores.csv', index=False, header=True)"
   ]
  }
 ],
 "metadata": {
  "kernelspec": {
   "display_name": "Python 3",
   "language": "python",
   "name": "python3"
  },
  "language_info": {
   "codemirror_mode": {
    "name": "ipython",
    "version": 3
   },
   "file_extension": ".py",
   "mimetype": "text/x-python",
   "name": "python",
   "nbconvert_exporter": "python",
   "pygments_lexer": "ipython3",
   "version": "3.8.8"
  }
 },
 "nbformat": 4,
 "nbformat_minor": 5
}
