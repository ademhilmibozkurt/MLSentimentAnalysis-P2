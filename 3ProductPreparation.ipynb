{
 "cells": [
  {
   "cell_type": "markdown",
   "id": "116a2ad0-565f-4fdc-9123-50fe84040437",
   "metadata": {},
   "source": [
    "## PREPARING PRODUCT LINKS"
   ]
  },
  {
   "cell_type": "markdown",
   "id": "f6fb3781-42a9-469c-bef2-cb50bdd7bceb",
   "metadata": {},
   "source": [
    "### Import Dependencies"
   ]
  },
  {
   "cell_type": "code",
   "execution_count": 1,
   "id": "5323a7a6-3c07-4a81-a615-ac8e8a7bc707",
   "metadata": {},
   "outputs": [],
   "source": [
    "import csv\n",
    "import pandas as pd"
   ]
  },
  {
   "cell_type": "markdown",
   "id": "658f6cca-75a6-46e8-abe8-5f5e46bcc2c4",
   "metadata": {},
   "source": [
    "### Read Links from CSV File"
   ]
  },
  {
   "cell_type": "code",
   "execution_count": 2,
   "id": "b84237e8-3bd9-41b4-991f-bb2cd32cd8d3",
   "metadata": {},
   "outputs": [],
   "source": [
    "links = pd.read_csv(\"D:\\\\Study\\\\4.2\\\\BitirmeÖdevi\\\\code\\\\2productLinks.csv\")"
   ]
  },
  {
   "cell_type": "markdown",
   "id": "f258d078-e07d-483c-8c75-14f452e50570",
   "metadata": {},
   "source": [
    "### Reach Info about File"
   ]
  },
  {
   "cell_type": "code",
   "execution_count": 3,
   "id": "7ec8797e-4976-48ef-b619-b05c867430aa",
   "metadata": {},
   "outputs": [
    {
     "data": {
      "text/html": [
       "<div>\n",
       "<style scoped>\n",
       "    .dataframe tbody tr th:only-of-type {\n",
       "        vertical-align: middle;\n",
       "    }\n",
       "\n",
       "    .dataframe tbody tr th {\n",
       "        vertical-align: top;\n",
       "    }\n",
       "\n",
       "    .dataframe thead th {\n",
       "        text-align: right;\n",
       "    }\n",
       "</style>\n",
       "<table border=\"1\" class=\"dataframe\">\n",
       "  <thead>\n",
       "    <tr style=\"text-align: right;\">\n",
       "      <th></th>\n",
       "      <th>name</th>\n",
       "      <th>link</th>\n",
       "    </tr>\n",
       "  </thead>\n",
       "  <tbody>\n",
       "    <tr>\n",
       "      <th>0</th>\n",
       "      <td>Airheads Candy Bars, Variety Bulk Box, Chewy F...</td>\n",
       "      <td>www.amazon.com/AirHeads-Chewy-Fruit-Variety-Pa...</td>\n",
       "    </tr>\n",
       "    <tr>\n",
       "      <th>1</th>\n",
       "      <td>Mott's Fruit Flavored Snacks, Assorted Fruit, ...</td>\n",
       "      <td>www.amazon.com/Motts-Snacks-Assorted-Gluten-Po...</td>\n",
       "    </tr>\n",
       "    <tr>\n",
       "      <th>2</th>\n",
       "      <td>Doritos Nacho Cheese Flavored Tortilla Chips, ...</td>\n",
       "      <td>www.amazon.com/Doritos-Nacho-Cheese-Flavored-T...</td>\n",
       "    </tr>\n",
       "    <tr>\n",
       "      <th>3</th>\n",
       "      <td>Smartfood White Cheddar Flavored Popcorn, 0.62...</td>\n",
       "      <td>www.amazon.com/Smartfood-White-Cheddar-Flavore...</td>\n",
       "    </tr>\n",
       "    <tr>\n",
       "      <th>4</th>\n",
       "      <td>Lay's Classic Potato Chips, 1 Ounce (Pack of 40)</td>\n",
       "      <td>www.amazon.com/Lays-Classic-Potato-Chips-Ounce...</td>\n",
       "    </tr>\n",
       "  </tbody>\n",
       "</table>\n",
       "</div>"
      ],
      "text/plain": [
       "                                                name  \\\n",
       "0  Airheads Candy Bars, Variety Bulk Box, Chewy F...   \n",
       "1  Mott's Fruit Flavored Snacks, Assorted Fruit, ...   \n",
       "2  Doritos Nacho Cheese Flavored Tortilla Chips, ...   \n",
       "3  Smartfood White Cheddar Flavored Popcorn, 0.62...   \n",
       "4  Lay's Classic Potato Chips, 1 Ounce (Pack of 40)    \n",
       "\n",
       "                                                link  \n",
       "0  www.amazon.com/AirHeads-Chewy-Fruit-Variety-Pa...  \n",
       "1  www.amazon.com/Motts-Snacks-Assorted-Gluten-Po...  \n",
       "2  www.amazon.com/Doritos-Nacho-Cheese-Flavored-T...  \n",
       "3  www.amazon.com/Smartfood-White-Cheddar-Flavore...  \n",
       "4  www.amazon.com/Lays-Classic-Potato-Chips-Ounce...  "
      ]
     },
     "execution_count": 3,
     "metadata": {},
     "output_type": "execute_result"
    }
   ],
   "source": [
    "links.head(5)"
   ]
  },
  {
   "cell_type": "code",
   "execution_count": 4,
   "id": "ed135b81-8dfb-41c6-a7f4-b01e8bddc26c",
   "metadata": {},
   "outputs": [
    {
     "data": {
      "text/html": [
       "<div>\n",
       "<style scoped>\n",
       "    .dataframe tbody tr th:only-of-type {\n",
       "        vertical-align: middle;\n",
       "    }\n",
       "\n",
       "    .dataframe tbody tr th {\n",
       "        vertical-align: top;\n",
       "    }\n",
       "\n",
       "    .dataframe thead th {\n",
       "        text-align: right;\n",
       "    }\n",
       "</style>\n",
       "<table border=\"1\" class=\"dataframe\">\n",
       "  <thead>\n",
       "    <tr style=\"text-align: right;\">\n",
       "      <th></th>\n",
       "      <th>count</th>\n",
       "      <th>unique</th>\n",
       "      <th>top</th>\n",
       "      <th>freq</th>\n",
       "    </tr>\n",
       "  </thead>\n",
       "  <tbody>\n",
       "    <tr>\n",
       "      <th>name</th>\n",
       "      <td>2713</td>\n",
       "      <td>2474</td>\n",
       "      <td>Seki Japan Chip Tong, 7.3 inch Mini Snack Food...</td>\n",
       "      <td>98</td>\n",
       "    </tr>\n",
       "    <tr>\n",
       "      <th>link</th>\n",
       "      <td>2713</td>\n",
       "      <td>2713</td>\n",
       "      <td>www.amazon.com/Playee-Spiral-Gum-Ball-Machine/...</td>\n",
       "      <td>1</td>\n",
       "    </tr>\n",
       "  </tbody>\n",
       "</table>\n",
       "</div>"
      ],
      "text/plain": [
       "     count unique                                                top freq\n",
       "name  2713   2474  Seki Japan Chip Tong, 7.3 inch Mini Snack Food...   98\n",
       "link  2713   2713  www.amazon.com/Playee-Spiral-Gum-Ball-Machine/...    1"
      ]
     },
     "execution_count": 4,
     "metadata": {},
     "output_type": "execute_result"
    }
   ],
   "source": [
    "links.describe().T"
   ]
  },
  {
   "cell_type": "code",
   "execution_count": 5,
   "id": "11603097-b871-42f1-b826-5a5536e82faa",
   "metadata": {},
   "outputs": [
    {
     "data": {
      "text/plain": [
       "239"
      ]
     },
     "execution_count": 5,
     "metadata": {},
     "output_type": "execute_result"
    }
   ],
   "source": [
    "sum(links.duplicated(subset=['name']))"
   ]
  },
  {
   "cell_type": "markdown",
   "id": "2b279471-267c-4999-aff4-cb793774f5ce",
   "metadata": {},
   "source": [
    "### Drop Duplicates"
   ]
  },
  {
   "cell_type": "code",
   "execution_count": 6,
   "id": "323c314b-00b8-4c7a-8f5f-1020d5d05c71",
   "metadata": {},
   "outputs": [],
   "source": [
    "links = links.drop_duplicates(subset=['name'])"
   ]
  },
  {
   "cell_type": "code",
   "execution_count": 7,
   "id": "f5a43bf3-5124-4638-b822-7284e11e79c4",
   "metadata": {},
   "outputs": [
    {
     "data": {
      "text/html": [
       "<div>\n",
       "<style scoped>\n",
       "    .dataframe tbody tr th:only-of-type {\n",
       "        vertical-align: middle;\n",
       "    }\n",
       "\n",
       "    .dataframe tbody tr th {\n",
       "        vertical-align: top;\n",
       "    }\n",
       "\n",
       "    .dataframe thead th {\n",
       "        text-align: right;\n",
       "    }\n",
       "</style>\n",
       "<table border=\"1\" class=\"dataframe\">\n",
       "  <thead>\n",
       "    <tr style=\"text-align: right;\">\n",
       "      <th></th>\n",
       "      <th>name</th>\n",
       "      <th>link</th>\n",
       "    </tr>\n",
       "  </thead>\n",
       "  <tbody>\n",
       "    <tr>\n",
       "      <th>count</th>\n",
       "      <td>2474</td>\n",
       "      <td>2474</td>\n",
       "    </tr>\n",
       "    <tr>\n",
       "      <th>unique</th>\n",
       "      <td>2474</td>\n",
       "      <td>2474</td>\n",
       "    </tr>\n",
       "    <tr>\n",
       "      <th>top</th>\n",
       "      <td>Jumbo Mint Balls - Peppermint [120CT Bag]</td>\n",
       "      <td>www.amazon.com/Playee-Spiral-Gum-Ball-Machine/...</td>\n",
       "    </tr>\n",
       "    <tr>\n",
       "      <th>freq</th>\n",
       "      <td>1</td>\n",
       "      <td>1</td>\n",
       "    </tr>\n",
       "  </tbody>\n",
       "</table>\n",
       "</div>"
      ],
      "text/plain": [
       "                                              name  \\\n",
       "count                                         2474   \n",
       "unique                                        2474   \n",
       "top     Jumbo Mint Balls - Peppermint [120CT Bag]    \n",
       "freq                                             1   \n",
       "\n",
       "                                                     link  \n",
       "count                                                2474  \n",
       "unique                                               2474  \n",
       "top     www.amazon.com/Playee-Spiral-Gum-Ball-Machine/...  \n",
       "freq                                                    1  "
      ]
     },
     "execution_count": 7,
     "metadata": {},
     "output_type": "execute_result"
    }
   ],
   "source": [
    "links.describe()"
   ]
  },
  {
   "cell_type": "markdown",
   "id": "ffddb353-9817-41bf-bee3-64ff4b07e387",
   "metadata": {},
   "source": [
    "### Write Prepared Links to a CSV File"
   ]
  },
  {
   "cell_type": "code",
   "execution_count": 8,
   "id": "623dd240-fbaa-4461-b559-d0d3329745a7",
   "metadata": {
    "tags": []
   },
   "outputs": [],
   "source": [
    "links.to_csv(r'2productLinksPrepared.csv', index=False, header=True)"
   ]
  }
 ],
 "metadata": {
  "kernelspec": {
   "display_name": "Python 3",
   "language": "python",
   "name": "python3"
  },
  "language_info": {
   "codemirror_mode": {
    "name": "ipython",
    "version": 3
   },
   "file_extension": ".py",
   "mimetype": "text/x-python",
   "name": "python",
   "nbconvert_exporter": "python",
   "pygments_lexer": "ipython3",
   "version": "3.8.8"
  }
 },
 "nbformat": 4,
 "nbformat_minor": 5
}
